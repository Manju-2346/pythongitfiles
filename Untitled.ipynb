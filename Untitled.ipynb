{
 "cells": [
  {
   "cell_type": "markdown",
   "id": "787aca3f",
   "metadata": {},
   "source": [
    "# heading1\n",
    "## heading2\n",
    "### heading3 \n",
    "#### heading4\n",
    "\n",
    " <h1 style=\"color:pink;background-color:green\">manju</h1>\n",
    " <h2 style=\"color:white;background-color:black\">harika</h2>\n",
    "\n",
    "*italic*<br>\n",
    "**bold**<br> \n",
    "***italic&bold***\n",
    "\n",
    "* list \n",
    " * sublist\n",
    "   * inner sublist \n",
    "     * data \n",
    "     \n",
    "\n",
    "\n",
    "\n",
    ">1.order list1<br>\n",
    ">>2.order list2<br>\n",
    ">>>3.order list3<br>\n",
    "\n",
    "<a href=\"https://www.google.com/\">google</a>\n",
    "\n",
    "<img src=\"lion.jfif\" alt=\"lion image\">\n",
    "\n",
    "<a href=\"https://www.google.com/search?q=flowe+images&tbm=isch&ved=2ahUKEwj0tcX09JjxAhV0ObcAHa_bADEQ2-cCegQIABAA&oq=flowe+images&gs_lcp=CgNpbWcQARgAMgIIADICCAAyBggAEAcQHjIGCAAQBxAeMgYIABAHEB4yBggAEAcQHjIGCAAQBxAeMgYIABAHEB4yBggAEAcQHjIGCAAQBxAeOgQIABBDUPGOL1jFtC9g9cAvaAFwAHgCgAGOCYgByCmSAQ8wLjMuMC4yLjAuMi4yLjGYAQCgAQGqAQtnd3Mtd2l6LWltZ8ABAQ&sclient=img&ei=izvIYLTEDvTy3LUPr7eDiAM&bih=588&biw=1330&rlz=1C1CHBF_enIN831IN831#imgrc=_V5nghHCorEorM\">flower</a>\n",
    "\n",
    "<img src=\"rose.jfif\" alt=\"rose image\">"
   ]
  },
  {
   "cell_type": "markdown",
   "id": "ce4bbbb4",
   "metadata": {},
   "source": [
    "# varibles \n",
    "\n",
    "* A varible must start with a letter or underscore\n",
    "* A variable name can't start with a number\n",
    "* A variable name can only contain alpha-numeric \n",
    "* A variable is case sensitive"
   ]
  },
  {
   "cell_type": "code",
   "execution_count": 1,
   "id": "6a14845c",
   "metadata": {},
   "outputs": [
    {
     "name": "stdout",
     "output_type": "stream",
     "text": [
      "10\n"
     ]
    }
   ],
   "source": [
    "a=10\n",
    "print(a)"
   ]
  },
  {
   "cell_type": "code",
   "execution_count": 7,
   "id": "e6e407d5",
   "metadata": {},
   "outputs": [
    {
     "ename": "SyntaxError",
     "evalue": "cannot assign to literal (<ipython-input-7-c91ce054ca9a>, line 1)",
     "output_type": "error",
     "traceback": [
      "\u001b[1;36m  File \u001b[1;32m\"<ipython-input-7-c91ce054ca9a>\"\u001b[1;36m, line \u001b[1;32m1\u001b[0m\n\u001b[1;33m    1.5=\"manju\"\u001b[0m\n\u001b[1;37m    ^\u001b[0m\n\u001b[1;31mSyntaxError\u001b[0m\u001b[1;31m:\u001b[0m cannot assign to literal\n"
     ]
    }
   ],
   "source": [
    "1.5=\"manju\"\n",
    "print(1.5)"
   ]
  },
  {
   "cell_type": "code",
   "execution_count": 9,
   "id": "7eb0b512",
   "metadata": {},
   "outputs": [
    {
     "name": "stdout",
     "output_type": "stream",
     "text": [
      "manju\n"
     ]
    }
   ],
   "source": [
    "_=\"manju\"\n",
    "print(_)"
   ]
  },
  {
   "cell_type": "code",
   "execution_count": 10,
   "id": "62cd40e5",
   "metadata": {},
   "outputs": [
    {
     "name": "stdout",
     "output_type": "stream",
     "text": [
      "7\n"
     ]
    }
   ],
   "source": [
    "a12=7\n",
    "print(a12)"
   ]
  },
  {
   "cell_type": "code",
   "execution_count": 12,
   "id": "974099bf",
   "metadata": {},
   "outputs": [
    {
     "ename": "SyntaxError",
     "evalue": "invalid syntax (<ipython-input-12-0ddf980f619c>, line 1)",
     "output_type": "error",
     "traceback": [
      "\u001b[1;36m  File \u001b[1;32m\"<ipython-input-12-0ddf980f619c>\"\u001b[1;36m, line \u001b[1;32m1\u001b[0m\n\u001b[1;33m    as@=6\u001b[0m\n\u001b[1;37m    ^\u001b[0m\n\u001b[1;31mSyntaxError\u001b[0m\u001b[1;31m:\u001b[0m invalid syntax\n"
     ]
    }
   ],
   "source": [
    "as@=6\n",
    "print(as@)"
   ]
  },
  {
   "cell_type": "markdown",
   "id": "d01cad0a",
   "metadata": {},
   "source": [
    "# Data types:\n",
    "* integer\n",
    "* float\n",
    "* string\n",
    "    "
   ]
  },
  {
   "cell_type": "code",
   "execution_count": 14,
   "id": "3a519237",
   "metadata": {},
   "outputs": [
    {
     "name": "stdout",
     "output_type": "stream",
     "text": [
      "10\n",
      "<class 'int'>\n"
     ]
    }
   ],
   "source": [
    "a=10\n",
    "print(a)\n",
    "print(type(a))"
   ]
  },
  {
   "cell_type": "code",
   "execution_count": 15,
   "id": "ef734588",
   "metadata": {},
   "outputs": [
    {
     "name": "stdout",
     "output_type": "stream",
     "text": [
      "12.23\n",
      "<class 'float'>\n"
     ]
    }
   ],
   "source": [
    "a=12.23\n",
    "print(a)\n",
    "print(type(a))"
   ]
  },
  {
   "cell_type": "code",
   "execution_count": 16,
   "id": "ba055137",
   "metadata": {},
   "outputs": [
    {
     "name": "stdout",
     "output_type": "stream",
     "text": [
      "manju\n",
      "<class 'str'>\n"
     ]
    }
   ],
   "source": [
    "m=\"manju\"\n",
    "print(m)\n",
    "print(type(m))"
   ]
  },
  {
   "cell_type": "code",
   "execution_count": 21,
   "id": "a6f65abf",
   "metadata": {},
   "outputs": [
    {
     "name": "stdout",
     "output_type": "stream",
     "text": [
      "10\n",
      "<class 'int'>\n",
      "10.0\n",
      "<class 'float'>\n",
      "10\n",
      "<class 'str'>\n"
     ]
    }
   ],
   "source": [
    "# typecasting\n",
    "a=10\n",
    "print(a)\n",
    "print(type(a))\n",
    "print(float(a))\n",
    "print(type(float(a)))\n",
    "print(str(a))\n",
    "print(type(str(a)))"
   ]
  },
  {
   "cell_type": "code",
   "execution_count": 23,
   "id": "8c3d928c",
   "metadata": {},
   "outputs": [
    {
     "name": "stdout",
     "output_type": "stream",
     "text": [
      "<class 'str'>\n"
     ]
    }
   ],
   "source": [
    "a=\"m\"\n",
    "print(type(a))"
   ]
  },
  {
   "cell_type": "code",
   "execution_count": 25,
   "id": "26756de0",
   "metadata": {},
   "outputs": [
    {
     "data": {
      "text/plain": [
       "20"
      ]
     },
     "execution_count": 25,
     "metadata": {},
     "output_type": "execute_result"
    }
   ],
   "source": [
    "a=20\n",
    "a"
   ]
  },
  {
   "cell_type": "code",
   "execution_count": 26,
   "id": "ce229776",
   "metadata": {},
   "outputs": [
    {
     "name": "stdout",
     "output_type": "stream",
     "text": [
      "20\n"
     ]
    }
   ],
   "source": [
    "b=a\n",
    "print(b)"
   ]
  },
  {
   "cell_type": "code",
   "execution_count": 28,
   "id": "377241fe",
   "metadata": {},
   "outputs": [
    {
     "name": "stdout",
     "output_type": "stream",
     "text": [
      "20\n",
      "20\n",
      "20\n"
     ]
    }
   ],
   "source": [
    "d=c=b=a\n",
    "print(d)\n",
    "print(c)\n",
    "print(b)"
   ]
  },
  {
   "cell_type": "code",
   "execution_count": 29,
   "id": "3012496f",
   "metadata": {},
   "outputs": [
    {
     "name": "stdout",
     "output_type": "stream",
     "text": [
      "10\n",
      "12.34\n",
      "faltoos\n",
      "killer\n"
     ]
    }
   ],
   "source": [
    "a,b,c,d=10,12.34,'faltoos',\"killer\"\n",
    "print(a)\n",
    "print(b)\n",
    "print(c)\n",
    "print(d)"
   ]
  },
  {
   "cell_type": "code",
   "execution_count": 32,
   "id": "35afd213",
   "metadata": {},
   "outputs": [
    {
     "name": "stdout",
     "output_type": "stream",
     "text": [
      "10\n",
      "10.23\n",
      "<class 'str'>\n"
     ]
    }
   ],
   "source": [
    "f=10.23\n",
    "print(int(f))\n",
    "print(str(f))\n",
    "print(type(str(f)))"
   ]
  },
  {
   "cell_type": "code",
   "execution_count": 34,
   "id": "a32e8df1",
   "metadata": {},
   "outputs": [
    {
     "name": "stdout",
     "output_type": "stream",
     "text": [
      "enter a value10\n",
      "10\n",
      "<class 'str'>\n"
     ]
    }
   ],
   "source": [
    "m=input(\"enter a value\")\n",
    "print(m)\n",
    "print(type(m))"
   ]
  },
  {
   "cell_type": "code",
   "execution_count": 35,
   "id": "7b05c5d0",
   "metadata": {},
   "outputs": [
    {
     "name": "stdout",
     "output_type": "stream",
     "text": [
      "enter a value12\n",
      "12\n",
      "<class 'int'>\n"
     ]
    }
   ],
   "source": [
    "n=int(input('enter a value'))\n",
    "print(n)\n",
    "print(type(n))"
   ]
  },
  {
   "cell_type": "code",
   "execution_count": 36,
   "id": "430660ad",
   "metadata": {},
   "outputs": [
    {
     "name": "stdout",
     "output_type": "stream",
     "text": [
      "enter a value12\n",
      "12.0\n",
      "<class 'float'>\n"
     ]
    }
   ],
   "source": [
    "n=float(input('enter a value'))\n",
    "print(n)\n",
    "print(type(n))"
   ]
  },
  {
   "cell_type": "code",
   "execution_count": 38,
   "id": "fe9fe34c",
   "metadata": {
    "scrolled": true
   },
   "outputs": [
    {
     "name": "stdout",
     "output_type": "stream",
     "text": [
      "enter a valuem\n",
      "m\n",
      "<class 'str'>\n"
     ]
    }
   ],
   "source": [
    "n=(input('enter a value'))\n",
    "print(n)\n",
    "print(type(n))"
   ]
  },
  {
   "cell_type": "code",
   "execution_count": 45,
   "id": "727e3984",
   "metadata": {},
   "outputs": [
    {
     "name": "stdout",
     "output_type": "stream",
     "text": [
      "False\n",
      "True\n"
     ]
    }
   ],
   "source": [
    "#identity operator\n",
    "a=10\n",
    "b=20\n",
    "print(a is b)\n",
    "print( a is not b)"
   ]
  },
  {
   "cell_type": "code",
   "execution_count": 46,
   "id": "157a443e",
   "metadata": {},
   "outputs": [
    {
     "name": "stdout",
     "output_type": "stream",
     "text": [
      "True\n",
      "False\n",
      "False\n"
     ]
    }
   ],
   "source": [
    "#membership operator\n",
    "a=\"manju\"\n",
    "print(\"a\" in a)\n",
    "print(\"b\" in a)\n",
    "print(\"c\" in a)"
   ]
  },
  {
   "cell_type": "code",
   "execution_count": 49,
   "id": "12e0de5a",
   "metadata": {},
   "outputs": [
    {
     "name": "stdout",
     "output_type": "stream",
     "text": [
      "10\n",
      "20\n",
      "Add of a and b is: 30\n",
      "add of 10 and 20 is : 30\n",
      "add of 10 and 20 is :30\n",
      "add of 30 and20 is :10\n"
     ]
    }
   ],
   "source": [
    "a=int(input())\n",
    "b=int(input())\n",
    "print(\"Add of a and b is:\",a+b)\n",
    "print(\"add of %d and %d is : %d\"%(a,b,a+b))\n",
    "print(\"add of {} and {} is :{}\".format(a,b,a+b))\n",
    "print(\"add of {2} and{1} is :{0}\".format(a,b,a+b))"
   ]
  },
  {
   "cell_type": "markdown",
   "id": "e6717513",
   "metadata": {},
   "source": [
    "# check the username and password then print login success by using if conditions\n"
   ]
  },
  {
   "cell_type": "code",
   "execution_count": 51,
   "id": "70763651",
   "metadata": {},
   "outputs": [
    {
     "name": "stdout",
     "output_type": "stream",
     "text": [
      "enter user namemanju@1234\n",
      "enter password90879\n",
      "login success\n"
     ]
    }
   ],
   "source": [
    "username=\"manju@1234\"\n",
    "password=90879\n",
    "user=input(\"enter user name\")\n",
    "pwd=int(input(\"enter password\"))\n",
    "if username==user:\n",
    "    if password==pwd:\n",
    "        print(\"login success\")\n",
    "else:\n",
    "    print(\"login failed\")\n",
    "\n"
   ]
  },
  {
   "cell_type": "code",
   "execution_count": null,
   "id": "535c3e91",
   "metadata": {},
   "outputs": [],
   "source": []
  }
 ],
 "metadata": {
  "kernelspec": {
   "display_name": "Python 3",
   "language": "python",
   "name": "python3"
  },
  "language_info": {
   "codemirror_mode": {
    "name": "ipython",
    "version": 3
   },
   "file_extension": ".py",
   "mimetype": "text/x-python",
   "name": "python",
   "nbconvert_exporter": "python",
   "pygments_lexer": "ipython3",
   "version": "3.8.8"
  }
 },
 "nbformat": 4,
 "nbformat_minor": 5
}
