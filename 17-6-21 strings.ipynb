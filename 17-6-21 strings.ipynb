{
 "cells": [
  {
   "cell_type": "code",
   "execution_count": 35,
   "id": "a928ff00",
   "metadata": {},
   "outputs": [
    {
     "name": "stdout",
     "output_type": "stream",
     "text": [
      "python programming\n",
      "p\n",
      "g\n",
      " \n",
      "python \n",
      "python\n",
      "pto\n",
      "ython programmin\n",
      "gnimmargorp nohtyp\n",
      "18\n",
      "9.0\n",
      "o\n",
      "python programm\n",
      "ing\n",
      "immargorp nohtyp\n",
      " nohtyp programming\n"
     ]
    }
   ],
   "source": [
    "# Strings\n",
    "s=\"python programming\"\n",
    "print(s)\n",
    "print(s[0])\n",
    "print(s[-1])\n",
    "print(s[6])\n",
    "print(s[0:7])\n",
    "print(s[0:6:1])\n",
    "print(s[0:6:2])\n",
    "print(s[1:-1])\n",
    "print(s[::-1])\n",
    "print(len(s))\n",
    "print(len(s)/2)\n",
    "print(s[len(s)//2])\n",
    "print(s[0:-3])\n",
    "print(s[-3:])\n",
    "print(s[-3::-1])\n",
    "print(s[6:0:-1]+s[0],s[7:])"
   ]
  },
  {
   "cell_type": "code",
   "execution_count": 40,
   "id": "12d52869",
   "metadata": {},
   "outputs": [
    {
     "name": "stdout",
     "output_type": "stream",
     "text": [
      " nohtyp programming\n"
     ]
    }
   ],
   "source": [
    "\n",
    "print(s[6::-1]+' '+s[7::])"
   ]
  },
  {
   "cell_type": "code",
   "execution_count": 36,
   "id": "197609b2",
   "metadata": {},
   "outputs": [
    {
     "name": "stdout",
     "output_type": "stream",
     "text": [
      "python programmin\n"
     ]
    }
   ],
   "source": [
    "print(s[0:-1:1])"
   ]
  },
  {
   "cell_type": "code",
   "execution_count": 39,
   "id": "365180c4",
   "metadata": {},
   "outputs": [
    {
     "name": "stdout",
     "output_type": "stream",
     "text": [
      "['__add__', '__class__', '__contains__', '__delattr__', '__dir__', '__doc__', '__eq__', '__format__', '__ge__', '__getattribute__', '__getitem__', '__getnewargs__', '__gt__', '__hash__', '__init__', '__init_subclass__', '__iter__', '__le__', '__len__', '__lt__', '__mod__', '__mul__', '__ne__', '__new__', '__reduce__', '__reduce_ex__', '__repr__', '__rmod__', '__rmul__', '__setattr__', '__sizeof__', '__str__', '__subclasshook__', 'capitalize', 'casefold', 'center', 'count', 'encode', 'endswith', 'expandtabs', 'find', 'format', 'format_map', 'index', 'isalnum', 'isalpha', 'isascii', 'isdecimal', 'isdigit', 'isidentifier', 'islower', 'isnumeric', 'isprintable', 'isspace', 'istitle', 'isupper', 'join', 'ljust', 'lower', 'lstrip', 'maketrans', 'partition', 'replace', 'rfind', 'rindex', 'rjust', 'rpartition', 'rsplit', 'rstrip', 'split', 'splitlines', 'startswith', 'strip', 'swapcase', 'title', 'translate', 'upper', 'zfill']\n"
     ]
    }
   ],
   "source": [
    "print(dir(\" \"))"
   ]
  },
  {
   "cell_type": "code",
   "execution_count": 48,
   "id": "bda69400",
   "metadata": {},
   "outputs": [
    {
     "name": "stdout",
     "output_type": "stream",
     "text": [
      "False\n",
      "False\n",
      "Manju\n",
      "True\n"
     ]
    }
   ],
   "source": [
    "s=\"Manju\"\n",
    "print(s.islower())\n",
    "print(s.isupper())\n",
    "print(s.capitalize())\n",
    "print(s.istitle())"
   ]
  },
  {
   "cell_type": "code",
   "execution_count": 72,
   "id": "d09522eb",
   "metadata": {},
   "outputs": [
    {
     "name": "stdout",
     "output_type": "stream",
     "text": [
      "True\n",
      "True\n",
      "False\n",
      "True\n",
      "False\n"
     ]
    }
   ],
   "source": [
    "s=\"Im Manju\"\n",
    "print(s.istitle())\n",
    "print(s.startswith(\"I\"))\n",
    "print(s.startswith(\"i\"))\n",
    "print(s.endswith(\"u\"))\n",
    "print(s.endswith(\"U\"))"
   ]
  },
  {
   "cell_type": "code",
   "execution_count": 66,
   "id": "1f613053",
   "metadata": {},
   "outputs": [
    {
     "name": "stdout",
     "output_type": "stream",
     "text": [
      "  manju   \n"
     ]
    }
   ],
   "source": [
    "m=\"manju\"\n",
    "print(m.center(10))"
   ]
  },
  {
   "cell_type": "code",
   "execution_count": 77,
   "id": "3e450ebf",
   "metadata": {},
   "outputs": [
    {
     "name": "stdout",
     "output_type": "stream",
     "text": [
      "@manju@\n"
     ]
    }
   ],
   "source": [
    "m=\"manju\"\n",
    "print(m.center(7,'@'))"
   ]
  },
  {
   "cell_type": "code",
   "execution_count": 86,
   "id": "df516ae4",
   "metadata": {},
   "outputs": [
    {
     "name": "stdout",
     "output_type": "stream",
     "text": [
      "3\n"
     ]
    }
   ],
   "source": [
    "m=\"ooohelllooo\"\n",
    "print(m.count(\"o\",5,))"
   ]
  },
  {
   "cell_type": "code",
   "execution_count": 101,
   "id": "9e03b6fb",
   "metadata": {},
   "outputs": [
    {
     "name": "stdout",
     "output_type": "stream",
     "text": [
      "1\n",
      "7\n",
      "4\n",
      "-1\n"
     ]
    }
   ],
   "source": [
    "m=\"kasuaryapr\"\n",
    "print(m.find(\"a\"))\n",
    "print(m.rfind(\"a\"))\n",
    "print(m.find(\"a\",3,))\n",
    "print(m.find(\"z\"))\n"
   ]
  },
  {
   "cell_type": "code",
   "execution_count": 102,
   "id": "29d33a57",
   "metadata": {},
   "outputs": [
    {
     "name": "stdout",
     "output_type": "stream",
     "text": [
      "1\n",
      "7\n",
      "4\n"
     ]
    },
    {
     "ename": "ValueError",
     "evalue": "substring not found",
     "output_type": "error",
     "traceback": [
      "\u001b[1;31m---------------------------------------------------------------------------\u001b[0m",
      "\u001b[1;31mValueError\u001b[0m                                Traceback (most recent call last)",
      "\u001b[1;32m<ipython-input-102-013a8923ff4b>\u001b[0m in \u001b[0;36m<module>\u001b[1;34m\u001b[0m\n\u001b[0;32m      2\u001b[0m \u001b[0mprint\u001b[0m\u001b[1;33m(\u001b[0m\u001b[0mm\u001b[0m\u001b[1;33m.\u001b[0m\u001b[0mrindex\u001b[0m\u001b[1;33m(\u001b[0m\u001b[1;34m\"a\"\u001b[0m\u001b[1;33m)\u001b[0m\u001b[1;33m)\u001b[0m\u001b[1;33m\u001b[0m\u001b[1;33m\u001b[0m\u001b[0m\n\u001b[0;32m      3\u001b[0m \u001b[0mprint\u001b[0m\u001b[1;33m(\u001b[0m\u001b[0mm\u001b[0m\u001b[1;33m.\u001b[0m\u001b[0mindex\u001b[0m\u001b[1;33m(\u001b[0m\u001b[1;34m\"a\"\u001b[0m\u001b[1;33m,\u001b[0m\u001b[1;36m3\u001b[0m\u001b[1;33m)\u001b[0m\u001b[1;33m)\u001b[0m\u001b[1;33m\u001b[0m\u001b[1;33m\u001b[0m\u001b[0m\n\u001b[1;32m----> 4\u001b[1;33m \u001b[0mprint\u001b[0m\u001b[1;33m(\u001b[0m\u001b[0mm\u001b[0m\u001b[1;33m.\u001b[0m\u001b[0mindex\u001b[0m\u001b[1;33m(\u001b[0m\u001b[1;34m\"z\"\u001b[0m\u001b[1;33m)\u001b[0m\u001b[1;33m)\u001b[0m\u001b[1;33m\u001b[0m\u001b[1;33m\u001b[0m\u001b[0m\n\u001b[0m",
      "\u001b[1;31mValueError\u001b[0m: substring not found"
     ]
    }
   ],
   "source": [
    "print(m.index(\"a\"))\n",
    "print(m.rindex(\"a\"))\n",
    "print(m.index(\"a\",3))\n",
    "print(m.index(\"z\"))"
   ]
  },
  {
   "cell_type": "code",
   "execution_count": 105,
   "id": "3587ae50",
   "metadata": {},
   "outputs": [
    {
     "data": {
      "text/plain": [
       "'h       el      lo'"
      ]
     },
     "execution_count": 105,
     "metadata": {},
     "output_type": "execute_result"
    }
   ],
   "source": [
    "s=\"h\\tel\\tlo\"\n",
    "s.expandtabs()"
   ]
  },
  {
   "cell_type": "code",
   "execution_count": 111,
   "id": "dd95768e",
   "metadata": {},
   "outputs": [],
   "source": [
    "h=\"This is {} and i am {} years old\".format(\"manju\",\"18\")"
   ]
  },
  {
   "cell_type": "code",
   "execution_count": 118,
   "id": "32b94e90",
   "metadata": {},
   "outputs": [
    {
     "name": "stdout",
     "output_type": "stream",
     "text": [
      "True\n",
      "True\n",
      "False\n"
     ]
    }
   ],
   "source": [
    "s=\"manju\"\n",
    "print(s.isalnum())\n",
    "print(s.isalpha())\n",
    "print(s.isdigit())"
   ]
  },
  {
   "cell_type": "code",
   "execution_count": 119,
   "id": "c58a720e",
   "metadata": {},
   "outputs": [
    {
     "name": "stdout",
     "output_type": "stream",
     "text": [
      "True\n",
      "False\n",
      "True\n"
     ]
    }
   ],
   "source": [
    "s=\"123\"\n",
    "print(s.isalnum())\n",
    "print(s.isalpha())\n",
    "print(s.isdigit())"
   ]
  },
  {
   "cell_type": "code",
   "execution_count": 121,
   "id": "67d469af",
   "metadata": {},
   "outputs": [
    {
     "name": "stdout",
     "output_type": "stream",
     "text": [
      "True\n",
      "True\n",
      "True\n"
     ]
    }
   ],
   "source": [
    "s=\"1234\"\n",
    "print(s.isalnum())\n",
    "print(s.isdecimal())\n",
    "print(s.isdigit())"
   ]
  },
  {
   "cell_type": "code",
   "execution_count": 122,
   "id": "3406d826",
   "metadata": {},
   "outputs": [
    {
     "data": {
      "text/plain": [
       "False"
      ]
     },
     "execution_count": 122,
     "metadata": {},
     "output_type": "execute_result"
    }
   ],
   "source": [
    "sp=\"sfsd fs\"\n",
    "sp.isspace()"
   ]
  },
  {
   "cell_type": "code",
   "execution_count": 123,
   "id": "3251ab52",
   "metadata": {},
   "outputs": [
    {
     "data": {
      "text/plain": [
       "True"
      ]
     },
     "execution_count": 123,
     "metadata": {},
     "output_type": "execute_result"
    }
   ],
   "source": [
    "sp=\"  \"\n",
    "sp.isspace()"
   ]
  },
  {
   "cell_type": "code",
   "execution_count": 126,
   "id": "575d01f1",
   "metadata": {},
   "outputs": [
    {
     "name": "stdout",
     "output_type": "stream",
     "text": [
      "manju\n",
      "manju \n",
      " manju\n"
     ]
    }
   ],
   "source": [
    "st=\" manju \"\n",
    "print(st.strip())\n",
    "print(st.lstrip())\n",
    "print(st.rstrip())"
   ]
  },
  {
   "cell_type": "code",
   "execution_count": 130,
   "id": "8c8627bf",
   "metadata": {},
   "outputs": [
    {
     "data": {
      "text/plain": [
       "('th', 'is', ' is manju')"
      ]
     },
     "execution_count": 130,
     "metadata": {},
     "output_type": "execute_result"
    }
   ],
   "source": [
    "s=\"this is manju\"\n",
    "s.partition('is')"
   ]
  },
  {
   "cell_type": "code",
   "execution_count": 134,
   "id": "93ade369",
   "metadata": {},
   "outputs": [
    {
     "data": {
      "text/plain": [
       "('hello hai how are you ', 'hai', '')"
      ]
     },
     "execution_count": 134,
     "metadata": {},
     "output_type": "execute_result"
    }
   ],
   "source": [
    "m=\"hello hai how are you hai\"\n",
    "m.rpartition('hai')"
   ]
  },
  {
   "cell_type": "code",
   "execution_count": 135,
   "id": "60f047f7",
   "metadata": {},
   "outputs": [
    {
     "name": "stdout",
     "output_type": "stream",
     "text": [
      "this is killer\n"
     ]
    }
   ],
   "source": [
    "m=\"this is manju\"\n",
    "print(m.replace(\"manju\",\"killer\"))"
   ]
  },
  {
   "cell_type": "code",
   "execution_count": 138,
   "id": "b70e46d5",
   "metadata": {},
   "outputs": [
    {
     "name": "stdout",
     "output_type": "stream",
     "text": [
      "hello hai hai how are you\n"
     ]
    }
   ],
   "source": [
    "s=\"hai hai hai how are you\"\n",
    "print(s.replace(\"hai\",\"hello\",1))"
   ]
  },
  {
   "cell_type": "code",
   "execution_count": 140,
   "id": "94958bb3",
   "metadata": {},
   "outputs": [
    {
     "name": "stdout",
     "output_type": "stream",
     "text": [
      "mAnJU\n"
     ]
    }
   ],
   "source": [
    "m=\"MaNju\"\n",
    "print(m.swapcase())"
   ]
  },
  {
   "cell_type": "code",
   "execution_count": 141,
   "id": "93298c1b",
   "metadata": {},
   "outputs": [
    {
     "data": {
      "text/plain": [
       "['hai frnds how are you']"
      ]
     },
     "execution_count": 141,
     "metadata": {},
     "output_type": "execute_result"
    }
   ],
   "source": [
    "s=\"hai frnds how are you\"\n",
    "s.split(\"students\")"
   ]
  },
  {
   "cell_type": "code",
   "execution_count": 144,
   "id": "84003570",
   "metadata": {},
   "outputs": [
    {
     "name": "stdout",
     "output_type": "stream",
     "text": [
      "@@@@@@@@@@@@@@@manju\n",
      "manju@@@@@@@@@@@@@@@\n",
      "0000000000000000000000000manju\n"
     ]
    }
   ],
   "source": [
    "s=\"manju\"\n",
    "print(s.rjust(20,\"@\"))\n",
    "print(s.ljust(20,\"@\"))\n",
    "print(s.zfill(30))"
   ]
  },
  {
   "cell_type": "code",
   "execution_count": 145,
   "id": "d1f33073",
   "metadata": {},
   "outputs": [
    {
     "data": {
      "text/plain": [
       "['hai ', ' how are you']"
      ]
     },
     "execution_count": 145,
     "metadata": {},
     "output_type": "execute_result"
    }
   ],
   "source": [
    "s=\"hai students how are you\"\n",
    "s.split(\"students\")"
   ]
  },
  {
   "cell_type": "code",
   "execution_count": 147,
   "id": "39e8c864",
   "metadata": {},
   "outputs": [
    {
     "data": {
      "text/plain": [
       "('hai ', 'students', ' how are you')"
      ]
     },
     "execution_count": 147,
     "metadata": {},
     "output_type": "execute_result"
    }
   ],
   "source": [
    "s=\"hai students how are you\"\n",
    "s.partition(\"students\")"
   ]
  },
  {
   "cell_type": "code",
   "execution_count": 149,
   "id": "dc92a408",
   "metadata": {},
   "outputs": [
    {
     "data": {
      "text/plain": [
       "['hai students how', ' are you']"
      ]
     },
     "execution_count": 149,
     "metadata": {},
     "output_type": "execute_result"
    }
   ],
   "source": [
    "s=\"hai students how\\n are you\"\n",
    "s.splitlines()"
   ]
  },
  {
   "cell_type": "code",
   "execution_count": 153,
   "id": "07f11e85",
   "metadata": {},
   "outputs": [
    {
     "name": "stdout",
     "output_type": "stream",
     "text": [
      "hai friends how are you friends\n"
     ]
    }
   ],
   "source": [
    "s=\"hai students how are you students\"\n",
    "s1=s.split(\"students\")\n",
    "s2=\"friends\".join(s1)\n",
    "print(s2)"
   ]
  },
  {
   "cell_type": "code",
   "execution_count": 162,
   "id": "9c0b2e6c",
   "metadata": {},
   "outputs": [
    {
     "name": "stdout",
     "output_type": "stream",
     "text": [
      "enter the numbers:123\n",
      "3\n"
     ]
    }
   ],
   "source": [
    "#function count the number digits in a given number\n",
    "n=input(\"enter the numbers:\")\n",
    "print(len(str(n)))"
   ]
  },
  {
   "cell_type": "code",
   "execution_count": 168,
   "id": "5c3ef724",
   "metadata": {},
   "outputs": [],
   "source": [
    "#check if a string is palindrome or not\n",
    "n=12321\n",
    "t=s[::-1]\n",
    "if n==t:\n",
    "    print(\"palindrome\")\n"
   ]
  },
  {
   "cell_type": "code",
   "execution_count": 169,
   "id": "0814787e",
   "metadata": {},
   "outputs": [
    {
     "name": "stdout",
     "output_type": "stream",
     "text": [
      "palindrome\n"
     ]
    }
   ],
   "source": [
    "s=\"stuts\"\n",
    "t=s[::-1]\n",
    "if t==s:\n",
    "    print(\"palindrome\")"
   ]
  },
  {
   "cell_type": "code",
   "execution_count": 170,
   "id": "e4a2ad9e",
   "metadata": {},
   "outputs": [
    {
     "name": "stdout",
     "output_type": "stream",
     "text": [
      "enter value :12321\n"
     ]
    },
    {
     "data": {
      "text/plain": [
       "'palindrome'"
      ]
     },
     "execution_count": 170,
     "metadata": {},
     "output_type": "execute_result"
    }
   ],
   "source": [
    "def palindrome(s):\n",
    "    if s==s[::-1]:\n",
    "        return \"palindrome\"\n",
    "    else:\n",
    "        return \"not a palindrome\"\n",
    "    \n",
    "palindrome(input(\"enter value :\"))"
   ]
  },
  {
   "cell_type": "code",
   "execution_count": null,
   "id": "15d640b0",
   "metadata": {},
   "outputs": [],
   "source": []
  }
 ],
 "metadata": {
  "kernelspec": {
   "display_name": "Python 3",
   "language": "python",
   "name": "python3"
  },
  "language_info": {
   "codemirror_mode": {
    "name": "ipython",
    "version": 3
   },
   "file_extension": ".py",
   "mimetype": "text/x-python",
   "name": "python",
   "nbconvert_exporter": "python",
   "pygments_lexer": "ipython3",
   "version": "3.8.8"
  }
 },
 "nbformat": 4,
 "nbformat_minor": 5
}
